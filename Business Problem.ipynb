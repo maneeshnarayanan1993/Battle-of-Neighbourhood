{
 "cells": [
  {
   "cell_type": "markdown",
   "metadata": {
    "collapsed": true
   },
   "source": [
    "# Opening a New Government Medical College Hospital, Professor Apartment and Hostel in Kasaragod District"
   ]
  },
  {
   "cell_type": "markdown",
   "metadata": {},
   "source": [
    "## Background of the Problem"
   ]
  },
  {
   "cell_type": "markdown",
   "metadata": {},
   "source": [
    "Kasaragod district is one of the 14 districts in the southern Indian state of Kerala. Kasaragod became part of Kannur district following the reorganisation of states due to predominance of Malayalam speakers. Kasaragod was declared as a district on 24 May 1984. At the same time, Kanyakumari district was separated from Kerala. Read more about Kasargod district here:-https://en.wikipedia.org/wiki/Kasaragod_district.\n",
    "\n",
    "The endosulfan tragedy which occurred in Kasaragod district is now well known. It is considered by many experts in the field of pesticide toxicity as one of the worst pesticide disasters to happen to a region and its people. Still, the victims are living in Kasaragod district. You can read from here https://www.cambridge.org/core/journals/international-annals-of-criminology/article/environmental-crime-and-victimization-a-green-criminological-analysis-of-the-endosulfan-disaster-kasargod-kerala/1E6ECAF4A29CA2D9538133DB86DDCC1A\n",
    "\n",
    "During Monsoon season diseases like Chikungunya, Dengue, Rat fever, Viral fever are very common among People. They depend mainly to Government District Medical Hospital, Chemmattamvayal, Kasaragod. But it lacks advanced medical facilities and shortage of efficient doctors. Diagnosing centres present in the different hospitals of the district lack to diagnose Virus-like H1N1, Nipah, Zika Virus etc. We used to send the sample to the Manipal Institute of Virology. Due to a large number of samples from different parts. Put our sample in a queue. Around 4-5 days requires to diagnose these type of Viruses. Above middle-class family members depends on Private Hospitals. The situation of private hospitals is also similar. If the condition of the patient is severe, they prescribe to any Private Hospital in Mangalore.\n",
    "\n",
    "We lack advanced medical facility in our district. A Government medical college will provide better treatment for Endosulfan victims as well as people suffering serious health issues. The medical college will transform the image of our district. Very fewer hospitals are available in our district. We depend on Private hospitals in Mangaluru City. So, Here, I will find the most suitable place for a Government medical college. I have to find a suitable place in Kasaragod district in such a way that Medical students and Doctors in the newly established Hospital should access basic necessities."
   ]
  },
  {
   "cell_type": "markdown",
   "metadata": {},
   "source": [
    "## Business Problem"
   ]
  },
  {
   "cell_type": "markdown",
   "metadata": {},
   "source": [
    "The objective of this capstone project is to analyse and select the best location in Kasaragod District for establishing a Government Medical College Hospital, Professor Apartment and Student's Hostel. Using machine learning techniques like clustering, this project aims to provide solutions to answer the business question: In the District of Kasaragod, if Government is looking to open a new Medical college complex(Hospital+college+Apartment+Hostel), where should they establish it."
   ]
  },
  {
   "cell_type": "markdown",
   "metadata": {},
   "source": [
    "## Target Audience of this project"
   ]
  },
  {
   "cell_type": "markdown",
   "metadata": {},
   "source": [
    "This project  useful to People residing in Kasaragod district and nearby area. This Project will be useful to Government official who is trying to search for location for this Medical College Project."
   ]
  },
  {
   "cell_type": "code",
   "execution_count": null,
   "metadata": {},
   "outputs": [],
   "source": []
  }
 ],
 "metadata": {
  "kernelspec": {
   "display_name": "Python 3.6",
   "language": "python",
   "name": "python3"
  },
  "language_info": {
   "codemirror_mode": {
    "name": "ipython",
    "version": 3
   },
   "file_extension": ".py",
   "mimetype": "text/x-python",
   "name": "python",
   "nbconvert_exporter": "python",
   "pygments_lexer": "ipython3",
   "version": "3.6.8"
  }
 },
 "nbformat": 4,
 "nbformat_minor": 1
}
